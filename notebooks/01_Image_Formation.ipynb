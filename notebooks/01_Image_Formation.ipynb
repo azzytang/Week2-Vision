{
 "cells": [
  {
   "cell_type": "markdown",
   "metadata": {},
   "source": [
    "# Pinhole Camera Model Practice Questions"
   ]
  },
  {
   "cell_type": "markdown",
   "metadata": {},
   "source": [
    "## Question 1: Perspective Projection"
   ]
  },
  {
   "cell_type": "markdown",
   "metadata": {},
   "source": [
    "A 3D point in the camera coordinate system is given by `p_c = [10, 5, 20]`. \n",
    "The camera has a focal length `f` of 50mm. \n",
    "Calculate the position of the projection of this point on the image plane in meters."
   ]
  },
  {
   "cell_type": "code",
   "execution_count": 25,
   "metadata": {},
   "outputs": [
    {
     "name": "stdout",
     "output_type": "stream",
     "text": [
      "[[0.025 ]\n",
      " [0.0125]\n",
      " [1.    ]]\n"
     ]
    }
   ],
   "source": [
    "# Your code here\n",
    "\n",
    "\n",
    "import numpy as np\n",
    "p_c = np.array([[10],[5],[20]])\n",
    "\n",
    "ans = np.dot(np.array([[.05, 0, 0],[0, .05, 0], [0, 0, 1]]), p_c) / 20\n",
    "\n",
    "print(ans)\n",
    "\n",
    "\n",
    "\n",
    "\n"
   ]
  },
  {
   "cell_type": "markdown",
   "metadata": {},
   "source": [
    "---"
   ]
  },
  {
   "cell_type": "markdown",
   "metadata": {},
   "source": [
    "## Question 2: Conversion to Pixels"
   ]
  },
  {
   "cell_type": "markdown",
   "metadata": {},
   "source": [
    "Given the projected point from Question 1, convert its coordinates from meters to pixels. \n",
    "Assume the following intrinsic parameters: \n",
    "- `s_x` = 800 pixels/meter\n",
    "- `s_y` = 800 pixels/meter\n",
    "- `o_x` = 320 pixels\n",
    "- `o_y` = 240 pixels\n",
    "What are the pixel coordinates `(u^I, v^I)`?"
   ]
  },
  {
   "cell_type": "code",
   "execution_count": 26,
   "metadata": {},
   "outputs": [
    {
     "name": "stdout",
     "output_type": "stream",
     "text": [
      "[[340.]\n",
      " [250.]\n",
      " [  1.]]\n"
     ]
    }
   ],
   "source": [
    "# Your code here\n",
    "\n",
    "s_x = 800\n",
    "s_y = 800\n",
    "o_x = 320\n",
    "o_y = 240\n",
    "f = 50/1000\n",
    "K = np.array([[f*s_x, 0, o_x],[0, f*s_y, o_y], [0, 0, 1]])\n",
    "p_c = np.array([[10],[5],[20]])\n",
    "p_i = np.dot(K, p_c) / 20\n",
    "print(p_i)"
   ]
  },
  {
   "cell_type": "markdown",
   "metadata": {},
   "source": [
    "---"
   ]
  },
  {
   "cell_type": "markdown",
   "metadata": {},
   "source": [
    "## Question 3: Intrinsic Matrix"
   ]
  },
  {
   "cell_type": "markdown",
   "metadata": {},
   "source": [
    "Construct the intrinsic calibration matrix `K` using the parameters from Question 2, assuming no skew (`s_θ = 0`)."
   ]
  },
  {
   "cell_type": "code",
   "execution_count": 27,
   "metadata": {},
   "outputs": [
    {
     "name": "stdout",
     "output_type": "stream",
     "text": [
      "[[ 40.   0. 320.]\n",
      " [  0.  40. 240.]\n",
      " [  0.   0.   1.]]\n"
     ]
    }
   ],
   "source": [
    "# Your code here\n",
    "K = np.array([[f*s_x, 0, o_x],[0, f*s_y, o_y], [0, 0, 1]])\n",
    "print(K)"
   ]
  },
  {
   "cell_type": "markdown",
   "metadata": {},
   "source": [
    "---"
   ]
  },
  {
   "cell_type": "markdown",
   "metadata": {},
   "source": [
    "## Question 4: Point Projection with Known Pose"
   ]
  },
  {
   "cell_type": "markdown",
   "metadata": {},
   "source": [
    "A point in the world frame is given by `p_w = [2, 3, 50]`. The camera's pose `T_w^c` is given by an identity rotation matrix and a translation vector `t_w^c = [0, 0, 10]`. [cite_start]Using the intrinsic matrix `K` from Question 3, calculate the pixel coordinates of the projected point. [cite: 14, 16, 17]"
   ]
  },
  {
   "cell_type": "code",
   "execution_count": 29,
   "metadata": {},
   "outputs": [
    {
     "name": "stdout",
     "output_type": "stream",
     "text": [
      "[[321.33333333]\n",
      " [242.        ]\n",
      " [  1.        ]]\n"
     ]
    }
   ],
   "source": [
    "# Your code here\n",
    "p_w = np.array([[2],[3],[50],[1]])\n",
    "t_wc = np.array([[0],[0],[10]])\n",
    "R_wc = np.array([[1, 0, 0],[0, 1, 0], [0, 0, 1]])\n",
    "extrinsic = np.concatenate((R_wc, t_wc), axis=1)\n",
    "\n",
    "ans = np.dot(np.dot(K, extrinsic), p_w)/60\n",
    "print(ans)"
   ]
  },
  {
   "cell_type": "markdown",
   "metadata": {},
   "source": [
    "---"
   ]
  },
  {
   "cell_type": "markdown",
   "metadata": {},
   "source": [
    "## Question 5: Radial Distortion"
   ]
  },
  {
   "cell_type": "markdown",
   "metadata": {},
   "source": [
    "A point is projected on the image plane at `(u_distort^I, v_distort^I) = (400, 350)` including radial distortion. Given distortion coefficients `a1 = 0.0001` and `a2 = 0.0000002` and the principal point `(o_x, o_y) = (320, 240)`, calculate the corrected pixel coordinates `(u^I, v^I)`."
   ]
  },
  {
   "cell_type": "code",
   "execution_count": null,
   "metadata": {},
   "outputs": [
    {
     "name": "stdout",
     "output_type": "stream",
     "text": [
      "6024.0 8083.0\n"
     ]
    }
   ],
   "source": [
    "# Your code here\n",
    "a1 = 0.0001 \n",
    "a2 = 0.0000002\n",
    "o_x = 320\n",
    "o_y = 240\n",
    "u_dist = 400\n",
    "v_dist = 350\n",
    "r2 = (u_dist-o_x)**2 + (v_dist-o_y)**2\n",
    "r4 = r2**2\n",
    "uI = (1 + a1 * r2 + a2 * r4) * (u_dist-o_x) + o_x\n",
    "vI = (1 + a1 * r2 + a2 * r4) * (v_dist-o_y) + o_y\n",
    "\n",
    "print(uI, vI)"
   ]
  },
  {
   "cell_type": "markdown",
   "metadata": {},
   "source": [
    "---"
   ]
  }
 ],
 "metadata": {
  "kernelspec": {
   "display_name": "Python 3",
   "language": "python",
   "name": "python3"
  },
  "language_info": {
   "codemirror_mode": {
    "name": "ipython",
    "version": 3
   },
   "file_extension": ".py",
   "mimetype": "text/x-python",
   "name": "python",
   "nbconvert_exporter": "python",
   "pygments_lexer": "ipython3",
   "version": "3.9.6"
  }
 },
 "nbformat": 4,
 "nbformat_minor": 4
}
